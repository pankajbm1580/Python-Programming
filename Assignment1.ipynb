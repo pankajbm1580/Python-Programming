{
 "cells": [
  {
   "cell_type": "markdown",
   "id": "635e648a-fbb3-48fe-a35e-3dfd501cb6a3",
   "metadata": {},
   "source": [
    "## Assignments"
   ]
  },
  {
   "cell_type": "markdown",
   "id": "4f6fb5ec-c65e-4a72-a37a-c2b84ea7570f",
   "metadata": {},
   "source": [
    "Write a Python program that takes a user input and prints it.\"\n"
   ]
  },
  {
   "cell_type": "code",
   "execution_count": 4,
   "id": "9c8dc527-6c40-4718-bb68-968a417aad79",
   "metadata": {},
   "outputs": [
    {
     "name": "stdin",
     "output_type": "stream",
     "text": [
      "Enter the number 34\n"
     ]
    },
    {
     "name": "stdout",
     "output_type": "stream",
     "text": [
      "34\n"
     ]
    }
   ],
   "source": [
    "p1 = input(\"Enter the number\")\n",
    "print(p1)\n"
   ]
  },
  {
   "cell_type": "markdown",
   "id": "22289551-70ba-45bc-b49f-2c3bfd5eeb42",
   "metadata": {},
   "source": [
    "Write a Python program to check if a number is positive, negative, or zero.\""
   ]
  },
  {
   "cell_type": "code",
   "execution_count": 17,
   "id": "c0b12e11-47cf-4573-ac8d-c0e9b93ccfac",
   "metadata": {},
   "outputs": [
    {
     "name": "stdin",
     "output_type": "stream",
     "text": [
      "enter value of a:  42\n"
     ]
    },
    {
     "name": "stdout",
     "output_type": "stream",
     "text": [
      "a is even\n",
      "a is zero\n"
     ]
    }
   ],
   "source": [
    "a = input('enter value of a: ')\n",
    "a= int(a)\n",
    "if (a%2 == 0):\n",
    "    print('a is even')\n",
    "else:\n",
    "    print('a is odd')\n",
    "print('a is zero')\n"
   ]
  },
  {
   "cell_type": "code",
   "execution_count": 20,
   "id": "3d12bc7f-9269-42ef-92d3-31f05c6bf30f",
   "metadata": {},
   "outputs": [
    {
     "name": "stdin",
     "output_type": "stream",
     "text": [
      "enter value of a:  -4\n"
     ]
    },
    {
     "name": "stdout",
     "output_type": "stream",
     "text": [
      "a is negative number\n",
      "Thanks a lot\n"
     ]
    }
   ],
   "source": [
    "a = input('enter value of a: ')\n",
    "a= int(a)\n",
    "if (a>0):\n",
    "    print('a is positive number')\n",
    "elif (a<0):\n",
    "    print('a is negative number')\n",
    "else:\n",
    "    print(' a is zero')\n",
    "print(\"Thanks a lot\")\n",
    "\n",
    "    "
   ]
  },
  {
   "cell_type": "code",
   "execution_count": 22,
   "id": "7e5f2c27-5f3c-482c-886b-0767f333d6c5",
   "metadata": {},
   "outputs": [
    {
     "name": "stdin",
     "output_type": "stream",
     "text": [
      "Enter a number:  5\n"
     ]
    },
    {
     "name": "stdout",
     "output_type": "stream",
     "text": [
      "The factorial of 5 is 120\n"
     ]
    }
   ],
   "source": [
    "import math\n",
    "\n",
    "num = int(input(\"Enter a number: \"))\n",
    "\n",
    "if num < 0:\n",
    "    print(\"Factorial is not defined for negative numbers\")\n",
    "else:\n",
    "    print(f\"The factorial of {num} is {math.factorial(num)}\")"
   ]
  },
  {
   "cell_type": "code",
   "execution_count": 26,
   "id": "4a69fbf3-e592-4620-9bea-8bda7bd72a58",
   "metadata": {},
   "outputs": [
    {
     "name": "stdin",
     "output_type": "stream",
     "text": [
      "Enter a number:  3\n"
     ]
    },
    {
     "name": "stdout",
     "output_type": "stream",
     "text": [
      "6\n"
     ]
    }
   ],
   "source": [
    "import math\n",
    "\n",
    "num = int(input(\"Enter a number: \"))\n",
    "num1 = math.factorial(num)\n",
    "print(num1)\n"
   ]
  },
  {
   "cell_type": "code",
   "execution_count": 31,
   "id": "8fe133c0-9686-4b74-906d-4392e140ccce",
   "metadata": {},
   "outputs": [
    {
     "name": "stdin",
     "output_type": "stream",
     "text": [
      "enter value of a:  12\n"
     ]
    },
    {
     "name": "stdout",
     "output_type": "stream",
     "text": [
      "12\n",
      "<class 'int'>\n"
     ]
    },
    {
     "name": "stdin",
     "output_type": "stream",
     "text": [
      "enter value of b:  56.90\n"
     ]
    },
    {
     "name": "stdout",
     "output_type": "stream",
     "text": [
      "56.9\n",
      "<class 'float'>\n"
     ]
    },
    {
     "name": "stdin",
     "output_type": "stream",
     "text": [
      "enter value of c:  pankaj\n"
     ]
    },
    {
     "name": "stdout",
     "output_type": "stream",
     "text": [
      "pankaj\n",
      "<class 'str'>\n"
     ]
    },
    {
     "name": "stdin",
     "output_type": "stream",
     "text": [
      "enter value of d:  true\n"
     ]
    },
    {
     "name": "stdout",
     "output_type": "stream",
     "text": [
      "True\n",
      "<class 'bool'>\n"
     ]
    }
   ],
   "source": [
    "a = int(input('enter value of a: '))\n",
    "print(a)\n",
    "print(type(a))\n",
    "b = float(input('enter value of b: '))\n",
    "print(b)\n",
    "print(type(b))\n",
    "c = str(input('enter value of c: '))\n",
    "print(c)\n",
    "print(type(c))\n",
    "d = bool(input('enter value of d: '))\n",
    "print(d)\n",
    "print(type(d))"
   ]
  },
  {
   "cell_type": "code",
   "execution_count": 34,
   "id": "78041b64-5398-4f49-8a3f-6f27ab08bc3d",
   "metadata": {},
   "outputs": [
    {
     "name": "stdout",
     "output_type": "stream",
     "text": [
      "Before Swapping \n",
      "Value of a  10\n",
      "Value of b  20\n",
      "\n",
      "After Swapping \n",
      "Value of a  20\n",
      "Value of b  10\n"
     ]
    }
   ],
   "source": [
    "a = 10\n",
    "b = 20\n",
    "\n",
    "print('Before Swapping ')\n",
    "print('Value of a ',a)\n",
    "print('Value of b ',b)\n",
    "\n",
    "a,b = b, a #Internally work on tuple data type. \n",
    "\n",
    "print('\\nAfter Swapping ')\n",
    "print('Value of a ',a)\n",
    "print('Value of b ',b)\n",
    "\n"
   ]
  },
  {
   "cell_type": "markdown",
   "id": "4c91cc45-4aac-47e5-94ec-82b24fd933a3",
   "metadata": {},
   "source": [
    "Write a Python program to convert Celsius to Fahrenheit"
   ]
  },
  {
   "cell_type": "code",
   "execution_count": 37,
   "id": "c6442edb-110a-43c6-b17e-99246db7ae0c",
   "metadata": {},
   "outputs": [
    {
     "name": "stdin",
     "output_type": "stream",
     "text": [
      "enter the value of c:  40\n"
     ]
    },
    {
     "name": "stdout",
     "output_type": "stream",
     "text": [
      "104.0\n"
     ]
    }
   ],
   "source": [
    "import math\n",
    "c = int(input('enter the value of c: '))\n",
    "f= ( c * 1.8) +32\n",
    "print(f)"
   ]
  },
  {
   "cell_type": "code",
   "execution_count": 38,
   "id": "c091d980-96d6-4ede-bd89-7202a285cbf1",
   "metadata": {},
   "outputs": [
    {
     "name": "stdout",
     "output_type": "stream",
     "text": [
      "P1P2\n"
     ]
    }
   ],
   "source": [
    "p1 = str (\"P1\")\n",
    "p2 = str (\"P2\")\n",
    "p3 = p1 + p2\n",
    "print(p3)"
   ]
  },
  {
   "cell_type": "code",
   "execution_count": 39,
   "id": "e9907737-48f8-47f0-a64d-270ca341922d",
   "metadata": {},
   "outputs": [
    {
     "name": "stdout",
     "output_type": "stream",
     "text": [
      "its int data type\n",
      "Thanks a lot\n"
     ]
    }
   ],
   "source": [
    "a = 10\n",
    "if (type(a)) == int :\n",
    "    print(\"its int data type\")\n",
    "else:\n",
    "    print(\"its not\")\n",
    "print(\"Thanks a lot\")\n"
   ]
  },
  {
   "cell_type": "markdown",
   "id": "07c18f4d-3169-4c75-a7a0-1df26de52076",
   "metadata": {},
   "source": [
    "Write a Python program to perform arithmetic operations: addition, subtraction, multiplication, and division."
   ]
  },
  {
   "cell_type": "code",
   "execution_count": 42,
   "id": "d9480037-5b78-44f3-99f0-ec0f4a3e72f0",
   "metadata": {},
   "outputs": [
    {
     "name": "stdout",
     "output_type": "stream",
     "text": [
      "30\n",
      "200\n",
      "-10\n",
      "0.5\n"
     ]
    }
   ],
   "source": [
    "a=10\n",
    "b=20\n",
    "c1 = a+b\n",
    "c2= a*b\n",
    "c3=a-b\n",
    "c4= a/b\n",
    "print(c1)\n",
    "print(c2)\n",
    "print(c3)\n",
    "print(c4)"
   ]
  },
  {
   "cell_type": "markdown",
   "id": "9d735e7a-78a5-471e-bb71-2a9668d4b223",
   "metadata": {},
   "source": [
    "Write a Python program to demonstrate comparison operators: equal to, not equal to, greater than, less than.\"\n"
   ]
  },
  {
   "cell_type": "code",
   "execution_count": 5,
   "id": "d536ff65-e809-4fac-83d3-2263081be557",
   "metadata": {},
   "outputs": [
    {
     "name": "stdin",
     "output_type": "stream",
     "text": [
      "enter value of a:  22\n",
      "enter value of b:  56\n"
     ]
    },
    {
     "name": "stdout",
     "output_type": "stream",
     "text": [
      "a is less than b\n",
      "Thanks a lot\n"
     ]
    }
   ],
   "source": [
    "a = int(input('enter value of a: '))\n",
    "b = int(input('enter value of b: '))\n",
    "    \n",
    "if (a==b ):\n",
    "    print(\"a is equal to b\")\n",
    "elif (a>b) :\n",
    "    print(\"a is greaten than b\")\n",
    "else:\n",
    "    print(\"a is less than b\")\n",
    "print(\"Thanks a lot\")\n",
    "\n"
   ]
  },
  {
   "cell_type": "markdown",
   "id": "bf25c336-3901-41ef-a2d0-db70dec66e0c",
   "metadata": {},
   "source": [
    "Write a Python program to demonstrate logical operators: and, or, not.\"\n"
   ]
  },
  {
   "cell_type": "code",
   "execution_count": 7,
   "id": "a2a37727-9284-4797-8b53-870ae8f9081e",
   "metadata": {},
   "outputs": [
    {
     "name": "stdin",
     "output_type": "stream",
     "text": [
      "enter value of a:  21\n",
      "enter value of b:  1\n"
     ]
    },
    {
     "name": "stdout",
     "output_type": "stream",
     "text": [
      "a is greater than b\n",
      "b is greater than a\n",
      "Thanks a lot\n"
     ]
    }
   ],
   "source": [
    "a = int(input('enter value of a: '))\n",
    "b = int(input('enter value of b: '))\n",
    "\n",
    "if (a>0) and (a>b) :\n",
    "    print(\"a is greater than b\")\n",
    "if (a> 0) or (b>a) :\n",
    "    print(\"b is greater than a\")\n",
    "if not ( a>0) and (b>0):\n",
    "    print(\" a and b are negative numbers\")\n",
    "print(\"Thanks a lot\")\n",
    "\n",
    "\n",
    "\n"
   ]
  },
  {
   "cell_type": "markdown",
   "id": "18f61b0a-09af-4ef2-bbfb-c157038add8e",
   "metadata": {},
   "source": [
    " Write a Python program to calculate the square of a number."
   ]
  },
  {
   "cell_type": "code",
   "execution_count": 10,
   "id": "6dc2f008-ae9b-4417-89b5-b1f8412c7c11",
   "metadata": {},
   "outputs": [
    {
     "name": "stdin",
     "output_type": "stream",
     "text": [
      "enter value of a:  8\n"
     ]
    },
    {
     "name": "stdout",
     "output_type": "stream",
     "text": [
      "64\n"
     ]
    }
   ],
   "source": [
    "a = int(input('enter value of a: '))\n",
    "b = a * a\n",
    "print(b)"
   ]
  },
  {
   "cell_type": "markdown",
   "id": "63bcff02-3944-47ca-b031-5251e37477fe",
   "metadata": {},
   "source": [
    "Write a Python program to find the sum of the first n natural numbers."
   ]
  },
  {
   "cell_type": "code",
   "execution_count": 16,
   "id": "a6ad5282-b374-45ea-9703-deed412608f2",
   "metadata": {},
   "outputs": [
    {
     "name": "stdin",
     "output_type": "stream",
     "text": [
      "enter value of a:  60\n"
     ]
    },
    {
     "name": "stdout",
     "output_type": "stream",
     "text": [
      "1830\n"
     ]
    }
   ],
   "source": [
    "import math\n",
    "a = int(input('enter value of a: '))\n",
    "b = a * (a+1) /2\n",
    "b= int(b)\n",
    "print(b)"
   ]
  },
  {
   "cell_type": "markdown",
   "id": "c914ccc5-77f8-416c-a735-a5579aff32b4",
   "metadata": {},
   "source": [
    "Write a Python program to check if a year is a leap year."
   ]
  },
  {
   "cell_type": "code",
   "execution_count": 19,
   "id": "86483148-495b-4dae-a5d9-7ee672452c46",
   "metadata": {},
   "outputs": [
    {
     "name": "stdin",
     "output_type": "stream",
     "text": [
      "enter value of year:  2024\n"
     ]
    },
    {
     "name": "stdout",
     "output_type": "stream",
     "text": [
      "its a leap year\n",
      "end of program\n"
     ]
    }
   ],
   "source": [
    "y = int(input('enter value of year: '))\n",
    "if (y%4==0):\n",
    "    print(\"its a leap year\")\n",
    "else:\n",
    "    print(\"its not\")\n",
    "print(\"end of program\")\n"
   ]
  },
  {
   "cell_type": "markdown",
   "id": "b1670a7e-5a1e-4594-9065-96b9b7052adc",
   "metadata": {},
   "source": [
    "Write a Python program to reverse a string.\"\n"
   ]
  },
  {
   "cell_type": "code",
   "execution_count": 20,
   "id": "6703ceb6-93b0-4cb2-9b79-c6d2d4c381bb",
   "metadata": {},
   "outputs": [
    {
     "name": "stdout",
     "output_type": "stream",
     "text": [
      "jaknap\n"
     ]
    }
   ],
   "source": [
    "p1 = \"pankaj\"\n",
    "rev_p1=p1[::-1]\n",
    "print(rev_p1)"
   ]
  },
  {
   "cell_type": "markdown",
   "id": "31dce947-30b5-46bb-bc65-8a2778c23e72",
   "metadata": {},
   "source": [
    "Write a Python program to check if a string is a palindrome"
   ]
  },
  {
   "cell_type": "code",
   "execution_count": 22,
   "id": "a145b985-1a4b-470c-90b8-6a41e55082f4",
   "metadata": {},
   "outputs": [
    {
     "name": "stdin",
     "output_type": "stream",
     "text": [
      "enter a string:  pankaj'\n"
     ]
    },
    {
     "name": "stdout",
     "output_type": "stream",
     "text": [
      "its not\n",
      "end of program\n"
     ]
    }
   ],
   "source": [
    "y = str(input('enter a string: '))\n",
    "rev_y= y[::-1]\n",
    "if (y==rev_y):\n",
    "    print(\"y is a palindrome\")\n",
    "else:\n",
    "    print(\"its not\")\n",
    "print(\"end of program\")\n",
    "\n",
    "\n"
   ]
  },
  {
   "cell_type": "markdown",
   "id": "4fa9ab13-e9c4-4ef3-9b91-53c45f474d7a",
   "metadata": {},
   "source": [
    "Write a Python program to sort a list of numbers in ascending order."
   ]
  },
  {
   "cell_type": "code",
   "execution_count": 29,
   "id": "37cf8ee2-5d5a-4a44-8355-2ed851d8e45f",
   "metadata": {},
   "outputs": [
    {
     "name": "stdout",
     "output_type": "stream",
     "text": [
      "[0, 1, 2, 5, 8, 9, 11]\n"
     ]
    }
   ],
   "source": [
    "lst1 = [5,2,1,8,9,0,11]\n",
    "lst1.sort()\n",
    "print(lst1)"
   ]
  },
  {
   "cell_type": "code",
   "execution_count": null,
   "id": "3b01efb8-3ee8-4999-baa7-048d1ed0067c",
   "metadata": {},
   "outputs": [],
   "source": []
  }
 ],
 "metadata": {
  "kernelspec": {
   "display_name": "Python 3 (ipykernel)",
   "language": "python",
   "name": "python3"
  },
  "language_info": {
   "codemirror_mode": {
    "name": "ipython",
    "version": 3
   },
   "file_extension": ".py",
   "mimetype": "text/x-python",
   "name": "python",
   "nbconvert_exporter": "python",
   "pygments_lexer": "ipython3",
   "version": "3.13.7"
  }
 },
 "nbformat": 4,
 "nbformat_minor": 5
}
