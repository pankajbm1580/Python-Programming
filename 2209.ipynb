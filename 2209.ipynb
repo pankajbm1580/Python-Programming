{
 "cells": [
  {
   "cell_type": "markdown",
   "id": "dabed024-734b-4f14-b86a-e61507126180",
   "metadata": {},
   "source": [
    "##Input Statements"
   ]
  },
  {
   "cell_type": "code",
   "execution_count": 2,
   "id": "de77c418-e5e2-4cb7-aef7-39477a42354a",
   "metadata": {},
   "outputs": [
    {
     "name": "stdin",
     "output_type": "stream",
     "text": [
      "enter value of a:  10\n"
     ]
    },
    {
     "name": "stdout",
     "output_type": "stream",
     "text": [
      "10\n"
     ]
    }
   ],
   "source": [
    "a = input('enter value of a: ')\n",
    "print(a)\n",
    "a= int(a)\n",
    "\n"
   ]
  },
  {
   "cell_type": "code",
   "execution_count": 5,
   "id": "09090a73-e96a-4e2b-a4ef-baebb8bdea66",
   "metadata": {},
   "outputs": [
    {
     "name": "stdin",
     "output_type": "stream",
     "text": [
      "Enter value a, b , and c 10, 20, 30\n"
     ]
    },
    {
     "name": "stdout",
     "output_type": "stream",
     "text": [
      "value of a 10,\n",
      "value of b  20,\n",
      "value of c 30\n"
     ]
    }
   ],
   "source": [
    "a,b, c = input('Enter value a, b , and c').split()\n",
    "print('value of a' , a)\n",
    "print('value of b ', b)\n",
    "print('value of c' ,c)"
   ]
  },
  {
   "cell_type": "code",
   "execution_count": 6,
   "id": "1672de63-01ab-46f7-97f1-3e9b716813ce",
   "metadata": {},
   "outputs": [
    {
     "name": "stdin",
     "output_type": "stream",
     "text": [
      "Enter value a, b , and c 10 20 30\n"
     ]
    },
    {
     "name": "stdout",
     "output_type": "stream",
     "text": [
      "value of a 10\n",
      "value of b  20\n",
      "value of c 30\n"
     ]
    }
   ],
   "source": [
    "a,b, c = input('Enter value a, b , and c').split()\n",
    "print('value of a' , a)\n",
    "print('value of b ', b)\n",
    "print('value of c' ,c)"
   ]
  },
  {
   "cell_type": "code",
   "execution_count": 8,
   "id": "fbc2d6c5-7b05-4c70-b2f6-4a7135c3ea46",
   "metadata": {},
   "outputs": [
    {
     "data": {
      "text/plain": [
       "['101,', 'Pankaj,', '500,', 'Vadodara']"
      ]
     },
     "execution_count": 8,
     "metadata": {},
     "output_type": "execute_result"
    }
   ],
   "source": [
    "msg = '101, Pankaj, 500, Vadodara'\n",
    "msg.split()"
   ]
  },
  {
   "cell_type": "markdown",
   "id": "3fba2cad-2adc-4d09-81d8-583782591d95",
   "metadata": {},
   "source": [
    "#Airthmatic operators"
   ]
  },
  {
   "cell_type": "code",
   "execution_count": 12,
   "id": "00941a35-0bf2-46e3-9f61-ea96a06bc966",
   "metadata": {},
   "outputs": [
    {
     "name": "stdout",
     "output_type": "stream",
     "text": [
      "3.142857142857143\n"
     ]
    }
   ],
   "source": [
    "result = 22/7\n",
    "print(result)"
   ]
  },
  {
   "cell_type": "code",
   "execution_count": 15,
   "id": "93588bbc-561a-44bf-ada7-413800693816",
   "metadata": {},
   "outputs": [
    {
     "name": "stdout",
     "output_type": "stream",
     "text": [
      "1\n"
     ]
    }
   ],
   "source": [
    "result = 22 % 7\n",
    "print(result)"
   ]
  },
  {
   "cell_type": "code",
   "execution_count": 18,
   "id": "3b329cd8-1ec3-490b-a778-5a21e9a19910",
   "metadata": {},
   "outputs": [
    {
     "name": "stdout",
     "output_type": "stream",
     "text": [
      "Before Swapping \n",
      "Value of a  10\n",
      "Value of b  20\n",
      "\n",
      "After Swapping \n",
      "Value of a  20\n",
      "Value of b  10\n"
     ]
    }
   ],
   "source": [
    "a = 10\n",
    "b = 20\n",
    "\n",
    "print('Before Swapping ')\n",
    "print('Value of a ',a)\n",
    "print('Value of b ',b)\n",
    "\n",
    "a,b = b, a #Internally work on tuple data type. \n",
    "\n",
    "print('\\nAfter Swapping ')\n",
    "print('Value of a ',a)\n",
    "print('Value of b ',b)\n"
   ]
  },
  {
   "cell_type": "code",
   "execution_count": 20,
   "id": "2afe5220-5986-41e1-94ec-74e523421b2b",
   "metadata": {},
   "outputs": [
    {
     "name": "stdout",
     "output_type": "stream",
     "text": [
      "a  > b  False\n"
     ]
    }
   ],
   "source": [
    "a = 10\n",
    "b = 20\n",
    "\n",
    "print(\"a  > b \",a > b)"
   ]
  },
  {
   "cell_type": "markdown",
   "id": "52f04e86-e307-476f-a7e2-4a60c9aefdd5",
   "metadata": {},
   "source": [
    "## equality operator"
   ]
  },
  {
   "cell_type": "code",
   "execution_count": 21,
   "id": "12424f90-f5b2-48ff-9ef1-497369127329",
   "metadata": {},
   "outputs": [
    {
     "data": {
      "text/plain": [
       "True"
      ]
     },
     "execution_count": 21,
     "metadata": {},
     "output_type": "execute_result"
    }
   ],
   "source": [
    "10 == 10"
   ]
  },
  {
   "cell_type": "code",
   "execution_count": 22,
   "id": "d1d7bd54-8410-4a72-a866-73374ce78e55",
   "metadata": {},
   "outputs": [
    {
     "data": {
      "text/plain": [
       "True"
      ]
     },
     "execution_count": 22,
     "metadata": {},
     "output_type": "execute_result"
    }
   ],
   "source": [
    "10!=20"
   ]
  },
  {
   "cell_type": "code",
   "execution_count": 23,
   "id": "8570e8e9-4bf3-43b1-88d4-bbc3ea28cf72",
   "metadata": {},
   "outputs": [
    {
     "data": {
      "text/plain": [
       "False"
      ]
     },
     "execution_count": 23,
     "metadata": {},
     "output_type": "execute_result"
    }
   ],
   "source": [
    "True and False"
   ]
  },
  {
   "cell_type": "code",
   "execution_count": 24,
   "id": "3038f136-97f8-4bc1-8250-ef7e63889753",
   "metadata": {},
   "outputs": [
    {
     "data": {
      "text/plain": [
       "True"
      ]
     },
     "execution_count": 24,
     "metadata": {},
     "output_type": "execute_result"
    }
   ],
   "source": [
    "True or False"
   ]
  },
  {
   "cell_type": "code",
   "execution_count": 25,
   "id": "c557f7f8-5f88-4c92-b58b-7f690110d6b9",
   "metadata": {},
   "outputs": [
    {
     "data": {
      "text/plain": [
       "20"
      ]
     },
     "execution_count": 25,
     "metadata": {},
     "output_type": "execute_result"
    }
   ],
   "source": [
    "0 or 20"
   ]
  },
  {
   "cell_type": "code",
   "execution_count": 26,
   "id": "cb09f8fa-417e-4668-b604-77c2d049f2a1",
   "metadata": {},
   "outputs": [
    {
     "data": {
      "text/plain": [
       "20"
      ]
     },
     "execution_count": 26,
     "metadata": {},
     "output_type": "execute_result"
    }
   ],
   "source": [
    "20 or 0"
   ]
  },
  {
   "cell_type": "code",
   "execution_count": 27,
   "id": "9715ec35-f287-4a76-829c-36bbb2d5b353",
   "metadata": {},
   "outputs": [
    {
     "data": {
      "text/plain": [
       "0"
      ]
     },
     "execution_count": 27,
     "metadata": {},
     "output_type": "execute_result"
    }
   ],
   "source": [
    "0 and 20\n"
   ]
  },
  {
   "cell_type": "code",
   "execution_count": 29,
   "id": "1043a244-885f-487b-8db8-f3ad50a0b505",
   "metadata": {},
   "outputs": [
    {
     "data": {
      "text/plain": [
       "0"
      ]
     },
     "execution_count": 29,
     "metadata": {},
     "output_type": "execute_result"
    }
   ],
   "source": [
    "20 and 0"
   ]
  },
  {
   "cell_type": "code",
   "execution_count": 30,
   "id": "c11d2281-ab78-484b-9288-8b9a976443c0",
   "metadata": {},
   "outputs": [
    {
     "data": {
      "text/plain": [
       "10"
      ]
     },
     "execution_count": 30,
     "metadata": {},
     "output_type": "execute_result"
    }
   ],
   "source": [
    "10 or 20"
   ]
  },
  {
   "cell_type": "code",
   "execution_count": 31,
   "id": "658112dc-6d64-4a3e-bdba-621849f798c9",
   "metadata": {},
   "outputs": [
    {
     "data": {
      "text/plain": [
       "20"
      ]
     },
     "execution_count": 31,
     "metadata": {},
     "output_type": "execute_result"
    }
   ],
   "source": [
    "20 or 10"
   ]
  },
  {
   "cell_type": "code",
   "execution_count": 32,
   "id": "4ce17178-7d7d-4830-978b-8a4b6e387393",
   "metadata": {},
   "outputs": [
    {
     "data": {
      "text/plain": [
       "20"
      ]
     },
     "execution_count": 32,
     "metadata": {},
     "output_type": "execute_result"
    }
   ],
   "source": [
    "10 and 20"
   ]
  },
  {
   "cell_type": "code",
   "execution_count": 33,
   "id": "456c6623-dd6f-4204-8aaf-8def9cdb0dc2",
   "metadata": {},
   "outputs": [
    {
     "data": {
      "text/plain": [
       "10"
      ]
     },
     "execution_count": 33,
     "metadata": {},
     "output_type": "execute_result"
    }
   ],
   "source": [
    "20 and 10"
   ]
  },
  {
   "cell_type": "code",
   "execution_count": null,
   "id": "bf93316d-c01f-436c-a5c8-57543b5aaa56",
   "metadata": {},
   "outputs": [],
   "source": []
  }
 ],
 "metadata": {
  "kernelspec": {
   "display_name": "Python 3 (ipykernel)",
   "language": "python",
   "name": "python3"
  },
  "language_info": {
   "codemirror_mode": {
    "name": "ipython",
    "version": 3
   },
   "file_extension": ".py",
   "mimetype": "text/x-python",
   "name": "python",
   "nbconvert_exporter": "python",
   "pygments_lexer": "ipython3",
   "version": "3.13.7"
  }
 },
 "nbformat": 4,
 "nbformat_minor": 5
}
