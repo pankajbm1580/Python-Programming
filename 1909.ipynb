{
 "cells": [
  {
   "cell_type": "markdown",
   "id": "839576b0-4256-4ccd-91bc-ce5792d2e2ba",
   "metadata": {},
   "source": [
    "### Output statments"
   ]
  },
  {
   "cell_type": "code",
   "execution_count": 3,
   "id": "ac025696-cd80-4867-84d8-8ab587946283",
   "metadata": {},
   "outputs": [
    {
     "name": "stdout",
     "output_type": "stream",
     "text": [
      "Hello World\n",
      "Thank You\n"
     ]
    }
   ],
   "source": [
    "print('Hello World')\n",
    "print('Thank You')"
   ]
  },
  {
   "cell_type": "code",
   "execution_count": 4,
   "id": "efdedbd2-baf7-43b9-ae5b-f42cd5a4f1a0",
   "metadata": {},
   "outputs": [
    {
     "name": "stdout",
     "output_type": "stream",
     "text": [
      "Hello World\n",
      "\n",
      "Thank You\n"
     ]
    }
   ],
   "source": [
    "print('Hello World')\n",
    "print()\n",
    "print('Thank You')"
   ]
  },
  {
   "cell_type": "code",
   "execution_count": 5,
   "id": "72f75348-b8c9-4061-83ac-6c3b2b1637c7",
   "metadata": {},
   "outputs": [
    {
     "name": "stdout",
     "output_type": "stream",
     "text": [
      "hello\n",
      "python\n",
      "Technical\tGuftgu\n"
     ]
    }
   ],
   "source": [
    "print(\"hello\\npython\")\n",
    "print(\"Technical\\tGuftgu\")"
   ]
  },
  {
   "cell_type": "code",
   "execution_count": 9,
   "id": "c82854d9-67c7-4b45-8fc1-2f542d71cbdb",
   "metadata": {},
   "outputs": [
    {
     "name": "stdout",
     "output_type": "stream",
     "text": [
      "pankaj kumar\n"
     ]
    }
   ],
   "source": [
    "f_name = 'pankaj'\n",
    "l_name='kumar'\n",
    "fullname = f_name+' ' + l_name\n",
    "print(fullname)"
   ]
  },
  {
   "cell_type": "code",
   "execution_count": 10,
   "id": "a9f11904-abae-436a-aa3e-03174675f922",
   "metadata": {},
   "outputs": [
    {
     "name": "stdout",
     "output_type": "stream",
     "text": [
      "10\n",
      "20\n",
      "30\n"
     ]
    }
   ],
   "source": [
    "a,b,c= 10,20,30\n",
    "print(a)\n",
    "print(b)\n",
    "print(c)"
   ]
  },
  {
   "cell_type": "markdown",
   "id": "710d31cd-d9f4-4427-84b5-5db3877ec892",
   "metadata": {},
   "source": [
    "## print() function with variable numbers of arguments."
   ]
  },
  {
   "cell_type": "code",
   "execution_count": 12,
   "id": "96af014a-2a57-41ed-856a-60b902f16cf6",
   "metadata": {},
   "outputs": [
    {
     "name": "stdout",
     "output_type": "stream",
     "text": [
      "the numbers are  10 20 30\n"
     ]
    }
   ],
   "source": [
    "print('the numbers are ', a,b,c)"
   ]
  },
  {
   "cell_type": "markdown",
   "id": "31efae0a-5779-4a8d-825b-626f7444b949",
   "metadata": {},
   "source": [
    "## sep and end attribute in print statment"
   ]
  },
  {
   "cell_type": "code",
   "execution_count": 13,
   "id": "d406b5a4-4498-47af-a437-d428761234ff",
   "metadata": {},
   "outputs": [
    {
     "name": "stdout",
     "output_type": "stream",
     "text": [
      "the numbers are @10@20@30\n"
     ]
    }
   ],
   "source": [
    "print('the numbers are ', a,b,c, sep='@')"
   ]
  },
  {
   "cell_type": "code",
   "execution_count": 18,
   "id": "38c06a0b-a820-4179-8be0-fbfd7781fb7d",
   "metadata": {},
   "outputs": [
    {
     "name": "stdout",
     "output_type": "stream",
     "text": [
      "Hello WorldThank Youwelcome\n"
     ]
    }
   ],
   "source": [
    "print('Hello World' , end ='')\n",
    "print('Thank You', end= '')\n",
    "print('welcome')"
   ]
  },
  {
   "cell_type": "code",
   "execution_count": 30,
   "id": "5d5acee8-a076-44ee-853d-73bbf6300655",
   "metadata": {},
   "outputs": [
    {
     "name": "stdout",
     "output_type": "stream",
     "text": [
      "this is your identity pankaj 54 maths chem\n",
      "my name pankaj , and age is 54 , and i read sub1 as maths ,and sub2 as chem\n"
     ]
    }
   ],
   "source": [
    "name = 'pankaj'\n",
    "age = 54\n",
    "sub1 = 'maths'\n",
    "sub2 ='chem'\n",
    "print( 'this is your identity', name , age, sub1, sub2)\n",
    "msg = f'my name {name} , and age is {age} , and i read sub1 as {sub1} ,and sub2 as {sub2}'\n",
    "print(msg)\n"
   ]
  },
  {
   "cell_type": "code",
   "execution_count": 24,
   "id": "07391b36-04d7-4b97-878e-eb6f3aeca5c4",
   "metadata": {},
   "outputs": [
    {
     "name": "stdout",
     "output_type": "stream",
     "text": [
      "<class 'tuple'>\n",
      "2123668611584\n"
     ]
    }
   ],
   "source": [
    "ls1 =(10,20,30)\n",
    "print(type(ls1))\n",
    "print(id(ls1))"
   ]
  },
  {
   "cell_type": "markdown",
   "id": "5c3dfe13-a340-4d60-9938-bdce5a827972",
   "metadata": {},
   "source": [
    "## print(formatted string)"
   ]
  },
  {
   "cell_type": "code",
   "execution_count": 26,
   "id": "aaf7e273-187f-4ecf-aba2-667c0bc2b901",
   "metadata": {},
   "outputs": [
    {
     "name": "stdout",
     "output_type": "stream",
     "text": [
      "  10\n",
      " 200\n",
      "3000\n"
     ]
    }
   ],
   "source": [
    "a=10\n",
    "b=200\n",
    "c=3000\n",
    "print('%4d' %(a))\n",
    "print('%4d' %(b))\n",
    "print('%4d' %(c))\n"
   ]
  },
  {
   "cell_type": "code",
   "execution_count": 3,
   "id": "4d6c88f9-92c0-414f-bb96-948454085064",
   "metadata": {},
   "outputs": [
    {
     "name": "stdout",
     "output_type": "stream",
     "text": [
      "Your name Sohan , Salary 40000 and Age 31\n"
     ]
    }
   ],
   "source": [
    "name = 'Rakesh'\n",
    "salary = 50000\n",
    "age = 21\n",
    "\n",
    "name = 'Mohan'\n",
    "salary = 32000\n",
    "age = 26\n",
    "\n",
    "name = 'Sohan'\n",
    "salary = 40000\n",
    "age = 31\n",
    "\n",
    "#print('Your name {} , Salary {} and Age {}'.format(name,salary,age))\n",
    "print('Your name {0} , Salary {2} and Age {1}'.format(name,age,salary))\n"
   ]
  },
  {
   "cell_type": "code",
   "execution_count": 5,
   "id": "41ec9869-cb6d-48b1-812f-f6ac98100840",
   "metadata": {},
   "outputs": [
    {
     "name": "stdout",
     "output_type": "stream",
     "text": [
      "pankaj\n"
     ]
    }
   ],
   "source": [
    "str = 'pankaj'\n",
    "print(str)"
   ]
  },
  {
   "cell_type": "code",
   "execution_count": null,
   "id": "6451df8c-6a56-4123-901f-37639318d4a2",
   "metadata": {},
   "outputs": [],
   "source": []
  }
 ],
 "metadata": {
  "kernelspec": {
   "display_name": "Python 3 (ipykernel)",
   "language": "python",
   "name": "python3"
  },
  "language_info": {
   "codemirror_mode": {
    "name": "ipython",
    "version": 3
   },
   "file_extension": ".py",
   "mimetype": "text/x-python",
   "name": "python",
   "nbconvert_exporter": "python",
   "pygments_lexer": "ipython3",
   "version": "3.13.7"
  }
 },
 "nbformat": 4,
 "nbformat_minor": 5
}
