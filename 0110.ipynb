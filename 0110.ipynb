{
 "cells": [
  {
   "cell_type": "markdown",
   "id": "77ba9d6a-0873-4cef-a966-a8ffef1dbee2",
   "metadata": {},
   "source": [
    "## Python List data structure - class no 11"
   ]
  },
  {
   "cell_type": "code",
   "execution_count": 1,
   "id": "f5cdcf05-670a-45ed-a0b9-bae27f592f07",
   "metadata": {},
   "outputs": [
    {
     "name": "stdout",
     "output_type": "stream",
     "text": [
      "10\n"
     ]
    }
   ],
   "source": [
    "a=[10,20,30,40,50]\n",
    "print(a[0])"
   ]
  },
  {
   "cell_type": "code",
   "execution_count": 2,
   "id": "932018f9-a964-4698-b195-765f94d5146b",
   "metadata": {},
   "outputs": [
    {
     "name": "stdout",
     "output_type": "stream",
     "text": [
      "List []\n",
      "Type <class 'list'>\n"
     ]
    }
   ],
   "source": [
    "lst =[]\n",
    "print('List', lst)\n",
    "print('Type' , type(lst))\n"
   ]
  },
  {
   "cell_type": "code",
   "execution_count": 6,
   "id": "db93fb67-a00f-4813-b92c-84b64874de0d",
   "metadata": {},
   "outputs": [
    {
     "name": "stdin",
     "output_type": "stream",
     "text": [
      "Enter List :  [10,20,30,40,50]\n"
     ]
    },
    {
     "name": "stdout",
     "output_type": "stream",
     "text": [
      "List [10, 20, 30, 40, 50]\n",
      "Type <class 'list'>\n"
     ]
    }
   ],
   "source": [
    "lst = eval(input('Enter List : '))\n",
    "print('List' ,lst)\n",
    "print('Type' , type(lst))\n"
   ]
  },
  {
   "cell_type": "code",
   "execution_count": 13,
   "id": "2dc15737-4069-49ff-ac31-bbc7e4ade6a2",
   "metadata": {},
   "outputs": [
    {
     "name": "stdout",
     "output_type": "stream",
     "text": [
      "['Mango', 'Guava', 'Grapes', 'kiwi']\n"
     ]
    }
   ],
   "source": [
    "fruits =['Mango', 'Orange','Guava', 'Grapes', 'kiwi']\n",
    "fruits.remove('Orange')\n",
    "print(fruits)"
   ]
  },
  {
   "cell_type": "code",
   "execution_count": 14,
   "id": "3b6b30e8-6ec4-490d-8af4-26d8bbf866bc",
   "metadata": {},
   "outputs": [
    {
     "name": "stdout",
     "output_type": "stream",
     "text": [
      "['Mango', 'Guava', 'Grapes', 'kiwi']\n"
     ]
    }
   ],
   "source": [
    "fruits =['Mango', 'Orange','Guava', 'Grapes', 'kiwi']\n",
    "item= fruits.pop(1)\n",
    "print(fruits)"
   ]
  },
  {
   "cell_type": "code",
   "execution_count": 15,
   "id": "5164c7ae-549b-459e-9a8c-f638772cdb46",
   "metadata": {},
   "outputs": [
    {
     "name": "stdout",
     "output_type": "stream",
     "text": [
      "['Mango', 'Coconut', 'Orange', 'Guava', 'Grapes', 'kiwi']\n"
     ]
    }
   ],
   "source": [
    "fruits =['Mango', 'Orange','Guava', 'Grapes', 'kiwi']\n",
    "fruits.insert(1, 'Coconut')\n",
    "print(fruits)"
   ]
  },
  {
   "cell_type": "code",
   "execution_count": 17,
   "id": "c6c80a0f-9781-466c-9fbd-28dbc6474102",
   "metadata": {},
   "outputs": [
    {
     "name": "stdout",
     "output_type": "stream",
     "text": [
      "Grapes\n"
     ]
    }
   ],
   "source": [
    "fruits =['Mango', 'Orange','Guava', 'Grapes', 'kiwi']\n",
    "print(fruits[3])"
   ]
  },
  {
   "cell_type": "code",
   "execution_count": 21,
   "id": "cb4ad07b-3447-4aac-bb9d-7492242f06bf",
   "metadata": {},
   "outputs": [
    {
     "name": "stdout",
     "output_type": "stream",
     "text": [
      "['Mango', 'Orange', 'Guava', 'Grapes', 'kiwi']\n",
      "['kiwi', 'Grapes', 'Guava', 'Orange', 'Mango']\n"
     ]
    }
   ],
   "source": [
    "fruits =['Mango', 'Orange','Guava', 'Grapes', 'kiwi']\n",
    "print(fruits)\n",
    "fruits.reverse()\n",
    "print(fruits)"
   ]
  },
  {
   "cell_type": "code",
   "execution_count": 47,
   "id": "bdbe175c-030e-4fc1-8966-9df8ff3a3cf4",
   "metadata": {},
   "outputs": [
    {
     "name": "stdout",
     "output_type": "stream",
     "text": [
      "['Python', 'is', 'an', 'easy', 'language']\n",
      "['language', 'easy', 'an', 'is', 'Python']\n"
     ]
    }
   ],
   "source": [
    "s1 =\"Python is an easy language\"\n",
    "s2 = s1.split()\n",
    "print(s2)\n",
    "s2.reverse()\n",
    "print(s2)\n"
   ]
  },
  {
   "cell_type": "markdown",
   "id": "e9ede52f-35b5-4a45-bdec-de5509654102",
   "metadata": {},
   "source": [
    "## Cloning and aliases"
   ]
  },
  {
   "cell_type": "code",
   "execution_count": 34,
   "id": "f17c35a7-a92c-48d0-8416-a06d63ab3e57",
   "metadata": {},
   "outputs": [
    {
     "name": "stdout",
     "output_type": "stream",
     "text": [
      "['p1', 'p2', 'p3', 'p4', 'p5']\n",
      "Id 2155166151424\n"
     ]
    }
   ],
   "source": [
    "lst1 =['p1', 'p2', 'p3', 'p4', 'p5']\n",
    "print(lst1)\n",
    "print('Id' ,id(lst1))"
   ]
  },
  {
   "cell_type": "code",
   "execution_count": 43,
   "id": "21990c21-6957-45cd-963d-6b0a284c50d4",
   "metadata": {},
   "outputs": [
    {
     "name": "stdout",
     "output_type": "stream",
     "text": [
      "['p1', 'p2', 'p3', 'p4', 'p5']\n",
      "Id 2155166763904\n"
     ]
    }
   ],
   "source": [
    "#lst2 =lst1\n",
    "lst2=lst1.copy()\n",
    "print(lst2)\n",
    "print('Id' ,id(lst2))"
   ]
  },
  {
   "cell_type": "markdown",
   "id": "1b730206-3477-48f8-bf2b-0de0e191405f",
   "metadata": {},
   "source": [
    "## Nested List"
   ]
  },
  {
   "cell_type": "code",
   "execution_count": null,
   "id": "3788aca2-ae34-4bdf-be28-cffd2adc2c1b",
   "metadata": {},
   "outputs": [],
   "source": []
  }
 ],
 "metadata": {
  "kernelspec": {
   "display_name": "Python 3 (ipykernel)",
   "language": "python",
   "name": "python3"
  },
  "language_info": {
   "codemirror_mode": {
    "name": "ipython",
    "version": 3
   },
   "file_extension": ".py",
   "mimetype": "text/x-python",
   "name": "python",
   "nbconvert_exporter": "python",
   "pygments_lexer": "ipython3",
   "version": "3.13.7"
  }
 },
 "nbformat": 4,
 "nbformat_minor": 5
}
