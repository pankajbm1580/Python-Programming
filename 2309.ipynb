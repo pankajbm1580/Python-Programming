{
 "cells": [
  {
   "cell_type": "markdown",
   "id": "d4421200-3450-40c3-a41b-5e53a944e82a",
   "metadata": {},
   "source": [
    "## Conditional Statement"
   ]
  },
  {
   "cell_type": "code",
   "execution_count": 4,
   "id": "667778d0-5f52-4d7b-895e-b621179c8f91",
   "metadata": {},
   "outputs": [
    {
     "name": "stdin",
     "output_type": "stream",
     "text": [
      "enter the number 89\n"
     ]
    },
    {
     "name": "stdout",
     "output_type": "stream",
     "text": [
      "Number is odd\n"
     ]
    }
   ],
   "source": [
    "num = int(input('enter the number'))\n",
    "if (num % 2 ) == 0 :\n",
    "    print('Number is even')\n",
    "else :\n",
    "    print('Number is odd')\n"
   ]
  },
  {
   "cell_type": "code",
   "execution_count": 11,
   "id": "10d3206b-62aa-42e2-90f2-79f69ee5b643",
   "metadata": {},
   "outputs": [
    {
     "name": "stdin",
     "output_type": "stream",
     "text": [
      "enter value of a:  32\n",
      "enter value of a:  43\n",
      "enter value of c:  578\n"
     ]
    },
    {
     "name": "stdout",
     "output_type": "stream",
     "text": [
      " a is smallest number\n",
      " a is largest number\n"
     ]
    }
   ],
   "source": [
    "a = input('enter value of a: ')\n",
    "b = input('enter value of a: ')\n",
    "c = input('enter value of c: ')\n",
    "\n",
    "if (a>b) :\n",
    "    print( ' a is greater than b')\n",
    "elif (b>c) :\n",
    "     print( ' b is greater than c')\n",
    "else :\n",
    "    print( ' a is smallest number')\n",
    "print( ' a is largest number')\n",
    "   \n"
   ]
  },
  {
   "cell_type": "code",
   "execution_count": 15,
   "id": "d7d057a9-d125-4ae7-9bc5-c1b82fca8915",
   "metadata": {},
   "outputs": [
    {
     "name": "stdout",
     "output_type": "stream",
     "text": [
      "Loan Approval program\n"
     ]
    },
    {
     "name": "stdin",
     "output_type": "stream",
     "text": [
      "enter the sal 43212\n"
     ]
    },
    {
     "name": "stdout",
     "output_type": "stream",
     "text": [
      "salary is ok\n"
     ]
    }
   ],
   "source": [
    "print('Loan Approval program')\n",
    "salary = int(input('enter the sal'))\n",
    "if salary>25000 :\n",
    "   print('salary is ok')\n",
    "else :\n",
    "   print('loan is not approved')\n",
    "\n",
    "    \n",
    "  "
   ]
  },
  {
   "cell_type": "markdown",
   "id": "9515e909-4941-4357-aa26-4a8401d5b545",
   "metadata": {},
   "source": [
    "## Iterative Statement"
   ]
  },
  {
   "cell_type": "code",
   "execution_count": 16,
   "id": "413e0985-bf8b-43c6-adb0-4a408c8d5d16",
   "metadata": {},
   "outputs": [
    {
     "data": {
      "text/plain": [
       "range(0, 10)"
      ]
     },
     "execution_count": 16,
     "metadata": {},
     "output_type": "execute_result"
    }
   ],
   "source": [
    "range(10)"
   ]
  },
  {
   "cell_type": "code",
   "execution_count": 22,
   "id": "176ecdbc-d2dd-4544-9ce2-c4269acfcb94",
   "metadata": {},
   "outputs": [],
   "source": [
    "import random\n",
    "\n"
   ]
  },
  {
   "cell_type": "code",
   "execution_count": 25,
   "id": "4ba72e23-c840-4873-acf5-a05adbc04100",
   "metadata": {},
   "outputs": [
    {
     "name": "stdout",
     "output_type": "stream",
     "text": [
      "banana\n"
     ]
    }
   ],
   "source": [
    "import random\n",
    "\n",
    "fruits =[\"apple\", \"banana\", \"cherry\", \"mango\"]\n",
    "print(random.choice(fruits))\n"
   ]
  },
  {
   "cell_type": "code",
   "execution_count": 29,
   "id": "d3a9189c-8ca4-458a-90db-c25bd625449d",
   "metadata": {},
   "outputs": [
    {
     "name": "stdout",
     "output_type": "stream",
     "text": [
      "0\n",
      "1\n",
      "2\n",
      "3\n",
      "4\n",
      "5\n",
      "6\n",
      "7\n",
      "8\n",
      "9\n"
     ]
    }
   ],
   "source": [
    "for i in range(10) :\n",
    "    print(i)"
   ]
  },
  {
   "cell_type": "code",
   "execution_count": 33,
   "id": "98f7da62-2b37-493b-a052-39166b7ff9e3",
   "metadata": {},
   "outputs": [
    {
     "name": "stdout",
     "output_type": "stream",
     "text": [
      "Technical guftgu\n",
      "16\n",
      "Technical guftgu\n",
      "16\n",
      "Technical guftgu\n",
      "16\n",
      "Technical guftgu\n",
      "16\n",
      "Technical guftgu\n",
      "16\n"
     ]
    }
   ],
   "source": [
    "for _ in range(5) :\n",
    "    print('Technical guftgu')\n",
    "    print(len('Technical guftgu'))\n"
   ]
  },
  {
   "cell_type": "code",
   "execution_count": 39,
   "id": "51e725d6-fd98-43a1-945b-2692cb31e377",
   "metadata": {},
   "outputs": [
    {
     "name": "stdout",
     "output_type": "stream",
     "text": [
      "11\n"
     ]
    }
   ],
   "source": [
    "\n",
    "for i in range(0,11,1) :\n",
    "    i= i +1\n",
    "print(i)\n"
   ]
  },
  {
   "cell_type": "code",
   "execution_count": 40,
   "id": "df626604-be36-4d4f-a800-ec922aaf9013",
   "metadata": {},
   "outputs": [
    {
     "name": "stdout",
     "output_type": "stream",
     "text": [
      "55\n"
     ]
    }
   ],
   "source": [
    "total = 0\n",
    "for i in range(11) :\n",
    "    total= total +i\n",
    "print(total)"
   ]
  },
  {
   "cell_type": "code",
   "execution_count": 44,
   "id": "188f844c-fd07-4af7-be1e-d6c0248173e7",
   "metadata": {},
   "outputs": [
    {
     "name": "stdout",
     "output_type": "stream",
     "text": [
      "D\n",
      "e\n",
      "l\n",
      "h\n",
      "i\n"
     ]
    }
   ],
   "source": [
    "s1 = 'Delhi'\n",
    "for ch1 in s1 :\n",
    "    print(ch1)\n"
   ]
  },
  {
   "cell_type": "code",
   "execution_count": 45,
   "id": "9307b9ba-cdb5-474a-8ddb-88e6bcfdb155",
   "metadata": {},
   "outputs": [
    {
     "name": "stdout",
     "output_type": "stream",
     "text": [
      "to i am to you are\n"
     ]
    },
    {
     "data": {
      "text/plain": [
       "2"
      ]
     },
     "execution_count": 45,
     "metadata": {},
     "output_type": "execute_result"
    }
   ],
   "source": [
    "msg = \"to i am to you are\"\n",
    "print(msg)\n",
    "msg.count(\"to\")"
   ]
  },
  {
   "cell_type": "code",
   "execution_count": 59,
   "id": "3dff84f6-6308-4948-9b5c-123bf5268d44",
   "metadata": {},
   "outputs": [
    {
     "name": "stdout",
     "output_type": "stream",
     "text": [
      "*\n",
      "**\n"
     ]
    }
   ],
   "source": [
    "char ='*'\n",
    "print(char)\n",
    "char = '*' + '*'\n",
    "print(\"**\")\n"
   ]
  },
  {
   "cell_type": "markdown",
   "id": "900072c7-a6b9-4a70-beb0-f1b3bad97cf9",
   "metadata": {},
   "source": [
    "## Nested Loop"
   ]
  },
  {
   "cell_type": "code",
   "execution_count": 95,
   "id": "dcb0a43f-f9c1-46cc-978c-9e1fac15af40",
   "metadata": {},
   "outputs": [
    {
     "name": "stdout",
     "output_type": "stream",
     "text": [
      "* \n",
      "* * \n",
      "* * * \n",
      "* * * * \n",
      "* * * * * \n"
     ]
    }
   ],
   "source": [
    "for i in range(5):\n",
    "    for j in range(i+1):\n",
    "        print('*', end= ' ')\n",
    "    print()"
   ]
  },
  {
   "cell_type": "code",
   "execution_count": 96,
   "id": "41efd388-19aa-4837-9b05-05c8282554dc",
   "metadata": {},
   "outputs": [
    {
     "name": "stdout",
     "output_type": "stream",
     "text": [
      "          * \n",
      "        * * \n",
      "      * * * \n",
      "    * * * * \n",
      "  * * * * * \n"
     ]
    }
   ],
   "source": [
    "for i in range(5):\n",
    "    for j in range(5-i):\n",
    "        print(' ', end =' ')\n",
    "    for j in range(i+1):\n",
    "        print('*', end= ' ')\n",
    "    print()"
   ]
  },
  {
   "cell_type": "code",
   "execution_count": 97,
   "id": "5c209406-d991-463c-86fb-fc46420101dc",
   "metadata": {},
   "outputs": [
    {
     "name": "stdout",
     "output_type": "stream",
     "text": [
      "     * \n",
      "    * * \n",
      "   * * * \n",
      "  * * * * \n",
      " * * * * * \n"
     ]
    }
   ],
   "source": [
    "for i in range(5):\n",
    "    for j in range(5-i):\n",
    "        print('', end =' ')\n",
    "    for j in range(i+1):\n",
    "        print('*', end= ' ')\n",
    "    print()"
   ]
  },
  {
   "cell_type": "code",
   "execution_count": 99,
   "id": "fc9b2618-a5cd-417e-904e-31d81fb24788",
   "metadata": {},
   "outputs": [
    {
     "name": "stdout",
     "output_type": "stream",
     "text": [
      "* * * * * \n",
      " * * * * \n",
      "  * * * \n",
      "   * * \n",
      "    * \n"
     ]
    }
   ],
   "source": [
    "for i in range(5,0,-1):\n",
    "    for j in range(5-i):\n",
    "        print('', end =' ')\n",
    "    for j in range(i):\n",
    "        print('*', end= ' ')\n",
    "    print()"
   ]
  },
  {
   "cell_type": "markdown",
   "id": "917a6dba-2f21-4bd9-8b07-d3a771fd20a4",
   "metadata": {},
   "source": [
    "## While Loop"
   ]
  },
  {
   "cell_type": "code",
   "execution_count": 3,
   "id": "e2ae553c-3df4-4e0f-85aa-2da3251faa9b",
   "metadata": {},
   "outputs": [
    {
     "name": "stdout",
     "output_type": "stream",
     "text": [
      "1\n",
      "2\n",
      "3\n",
      "4\n",
      "5\n"
     ]
    }
   ],
   "source": [
    "x =1\n",
    "while x<=5:\n",
    "    print(x)\n",
    "    x=x+1"
   ]
  },
  {
   "cell_type": "code",
   "execution_count": null,
   "id": "1e7af7a2-11a2-4aa1-a2d1-e08d6960dea9",
   "metadata": {},
   "outputs": [
    {
     "name": "stdout",
     "output_type": "stream",
     "text": [
      "Hello  World\n"
     ]
    },
    {
     "name": "stdin",
     "output_type": "stream",
     "text": [
      "press Y to continue or N to stop Y\n"
     ]
    },
    {
     "name": "stdout",
     "output_type": "stream",
     "text": [
      "Hello  World\n"
     ]
    },
    {
     "name": "stdin",
     "output_type": "stream",
     "text": [
      "press Y to continue or N to stop y\n"
     ]
    },
    {
     "name": "stdout",
     "output_type": "stream",
     "text": [
      "Hello  World\n"
     ]
    }
   ],
   "source": [
    "##infinite loop\n",
    "\n",
    "while True:\n",
    "    print(\"Hello  World\")\n",
    "    option = input(\"press Y to continue or N to stop\")\n",
    "    if option == 'N' or option ==\"n\":\n",
    "        break\n",
    "print(\"thanks you toomuch\")\n",
    "\n",
    "        "
   ]
  },
  {
   "cell_type": "code",
   "execution_count": 18,
   "id": "f818d092-6348-4663-9846-38bb6be5770a",
   "metadata": {},
   "outputs": [
    {
     "name": "stdin",
     "output_type": "stream",
     "text": [
      "Enter any number 66\n"
     ]
    },
    {
     "name": "stdout",
     "output_type": "stream",
     "text": [
      " number is even\n",
      "end of program\n"
     ]
    }
   ],
   "source": [
    "num  = int(input(\"Enter any number\"))\n",
    "while True:\n",
    "    if (num % 2== 0):\n",
    "           print(\" number is even\")\n",
    "           break\n",
    "    \n",
    "    else:\n",
    "           print(\"number is not even\")\n",
    "           break\n",
    "print( \"end of program\")\n",
    "\n"
   ]
  },
  {
   "cell_type": "markdown",
   "id": "7dfc06d1-7680-40ac-b363-e20c21007125",
   "metadata": {},
   "source": [
    "## Transfer statement\n",
    "1. break\n",
    "2. continue\n",
    "3. pass"
   ]
  },
  {
   "cell_type": "code",
   "execution_count": 25,
   "id": "9830cf06-691b-4c8b-a143-fa24b674db1c",
   "metadata": {},
   "outputs": [
    {
     "name": "stdout",
     "output_type": "stream",
     "text": [
      "value of i 0\n",
      "value of i 1\n",
      "value of i 2\n",
      "value of i 3\n",
      "value of i 4\n"
     ]
    }
   ],
   "source": [
    "for i in range(6):\n",
    "    print(\"value of i\" , i)\n",
    "    if i >= 4 :\n",
    "        break"
   ]
  },
  {
   "cell_type": "code",
   "execution_count": 28,
   "id": "48482cf8-22dd-47a7-8765-b39fe6f96d5f",
   "metadata": {},
   "outputs": [
    {
     "name": "stdout",
     "output_type": "stream",
     "text": [
      "scrap Page no 18\n"
     ]
    },
    {
     "ename": "KeyboardInterrupt",
     "evalue": "",
     "output_type": "error",
     "traceback": [
      "\u001b[31m---------------------------------------------------------------------------\u001b[39m",
      "\u001b[31mKeyboardInterrupt\u001b[39m                         Traceback (most recent call last)",
      "\u001b[36mCell\u001b[39m\u001b[36m \u001b[39m\u001b[32mIn[28]\u001b[39m\u001b[32m, line 6\u001b[39m\n\u001b[32m      4\u001b[39m     \u001b[38;5;28;01mcontinue\u001b[39;00m\n\u001b[32m      5\u001b[39m \u001b[38;5;28mprint\u001b[39m(\u001b[33m\"\u001b[39m\u001b[33mscrap Page no\u001b[39m\u001b[33m\"\u001b[39m , i)\n\u001b[32m----> \u001b[39m\u001b[32m6\u001b[39m \u001b[43msleep\u001b[49m\u001b[43m(\u001b[49m\u001b[32;43m5\u001b[39;49m\u001b[43m)\u001b[49m\n",
      "\u001b[31mKeyboardInterrupt\u001b[39m: "
     ]
    }
   ],
   "source": [
    "from time import sleep\n",
    "for i in range(100):\n",
    "    if i<=17:\n",
    "        continue\n",
    "    print(\"scrap Page no\" , i)\n",
    "    sleep(5)"
   ]
  },
  {
   "cell_type": "markdown",
   "id": "ac3477b7-21c0-4da0-8a42-b9fb49465bcd",
   "metadata": {},
   "source": [
    "## pass"
   ]
  },
  {
   "cell_type": "code",
   "execution_count": 29,
   "id": "93f5ce38-5681-4153-ab4f-d11380cddf72",
   "metadata": {},
   "outputs": [
    {
     "name": "stdout",
     "output_type": "stream",
     "text": [
      "Thanks a lot\n"
     ]
    }
   ],
   "source": [
    "x= 10\n",
    "if x==10:\n",
    "    pass\n",
    "print(\"Thanks a lot\")"
   ]
  },
  {
   "cell_type": "markdown",
   "id": "79929f54-82ab-4416-b953-2eafb64cfecf",
   "metadata": {},
   "source": [
    "### for loop with else statement"
   ]
  },
  {
   "cell_type": "code",
   "execution_count": 38,
   "id": "b5e0898c-4035-4b7f-a68b-07cfb5343dda",
   "metadata": {},
   "outputs": [
    {
     "name": "stdout",
     "output_type": "stream",
     "text": [
      "value of i 0\n",
      "value of i 1\n",
      "value of i 2\n",
      "value of i 3\n"
     ]
    }
   ],
   "source": [
    "for i in range(5):\n",
    "    print('value of i' , i)\n",
    "    if i ==3:\n",
    "        break\n",
    "else:\n",
    "    print(\"i am haappy\")"
   ]
  },
  {
   "cell_type": "code",
   "execution_count": 40,
   "id": "25a34305-825c-484c-9c5e-88f8036f0af2",
   "metadata": {},
   "outputs": [
    {
     "name": "stdin",
     "output_type": "stream",
     "text": [
      "Enter pin :  1245\n"
     ]
    },
    {
     "name": "stdout",
     "output_type": "stream",
     "text": [
      "wring pin entered\n"
     ]
    },
    {
     "name": "stdin",
     "output_type": "stream",
     "text": [
      "Enter pin :  1267\n"
     ]
    },
    {
     "name": "stdout",
     "output_type": "stream",
     "text": [
      "wring pin entered\n"
     ]
    },
    {
     "name": "stdin",
     "output_type": "stream",
     "text": [
      "Enter pin :  1289\n"
     ]
    },
    {
     "name": "stdout",
     "output_type": "stream",
     "text": [
      "wring pin entered\n",
      " card is blocked\n"
     ]
    }
   ],
   "source": [
    "for i in range(3):\n",
    "    pin = int(input('Enter pin : '))\n",
    "    if pin == 1234 :\n",
    "       print(\"correct pin entered\")\n",
    "       break\n",
    "    else :\n",
    "       print(\"wring pin entered\")\n",
    "else :\n",
    "    print(\" card is blocked\")"
   ]
  },
  {
   "cell_type": "code",
   "execution_count": null,
   "id": "320b9101-00c4-4cf8-901c-95282ca5b9d5",
   "metadata": {},
   "outputs": [],
   "source": [
    "\n",
    "        "
   ]
  }
 ],
 "metadata": {
  "kernelspec": {
   "display_name": "Python 3 (ipykernel)",
   "language": "python",
   "name": "python3"
  },
  "language_info": {
   "codemirror_mode": {
    "name": "ipython",
    "version": 3
   },
   "file_extension": ".py",
   "mimetype": "text/x-python",
   "name": "python",
   "nbconvert_exporter": "python",
   "pygments_lexer": "ipython3",
   "version": "3.13.7"
  }
 },
 "nbformat": 4,
 "nbformat_minor": 5
}
